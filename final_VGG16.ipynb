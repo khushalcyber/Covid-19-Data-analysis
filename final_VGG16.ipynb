{
  "cells": [
    {
      "cell_type": "markdown",
      "metadata": {
        "id": "view-in-github",
        "colab_type": "text"
      },
      "source": [
        "<a href=\"https://colab.research.google.com/github/khushalcyber/Covid-19-Data-analysis/blob/master/final_VGG16.ipynb\" target=\"_parent\"><img src=\"https://colab.research.google.com/assets/colab-badge.svg\" alt=\"Open In Colab\"/></a>"
      ]
    },
    {
      "cell_type": "markdown",
      "source": [
        "**Importing** **The** **Necessary** **Libraries**\n"
      ],
      "metadata": {
        "id": "qpeKBDDh0ZAG"
      },
      "id": "qpeKBDDh0ZAG"
    },
    {
      "cell_type": "code",
      "execution_count": null,
      "id": "014dbbc4",
      "metadata": {
        "id": "014dbbc4"
      },
      "outputs": [],
      "source": [
        "from keras.layers import Input, Lambda, Dense, Flatten\n",
        "from keras.models import Model\n",
        "from keras.applications.vgg16 import VGG16\n",
        "from keras.applications.vgg16 import preprocess_input\n",
        "from keras.preprocessing import image\n",
        "from keras.preprocessing.image import ImageDataGenerator\n",
        "from keras.models import Sequential\n",
        "import numpy as np\n",
        "from glob import glob\n",
        "import matplotlib.pyplot as plt\n"
      ]
    },
    {
      "cell_type": "code",
      "execution_count": null,
      "id": "8afc4e59",
      "metadata": {
        "id": "8afc4e59"
      },
      "outputs": [],
      "source": [
        "# re-size all the images to this\n",
        "IMAGE_SIZE = [224, 224]"
      ]
    },
    {
      "cell_type": "code",
      "execution_count": null,
      "metadata": {
        "id": "6FfdVPF19j4q"
      },
      "outputs": [],
      "source": [
        "from google.colab import drive"
      ],
      "id": "6FfdVPF19j4q"
    },
    {
      "cell_type": "code",
      "execution_count": null,
      "metadata": {
        "colab": {
          "base_uri": "https://localhost:8080/"
        },
        "id": "0MA73xHN9uj0",
        "outputId": "5501fa81-b59d-4077-aff8-ade94210baf1"
      },
      "outputs": [
        {
          "output_type": "stream",
          "name": "stdout",
          "text": [
            "Mounted at /content/drive\n"
          ]
        }
      ],
      "source": [
        "drive.mount('/content/drive')"
      ],
      "id": "0MA73xHN9uj0"
    },
    {
      "cell_type": "code",
      "execution_count": null,
      "id": "3eb0d679",
      "metadata": {
        "id": "3eb0d679"
      },
      "outputs": [],
      "source": [
        "train_path = \"/content/drive/MyDrive/dataset_v2/train/\"\n",
        "test_path = \"/content/drive/MyDrive/dataset_v2/test/\""
      ]
    },
    {
      "cell_type": "code",
      "execution_count": null,
      "id": "c3cdd6f6",
      "metadata": {
        "colab": {
          "base_uri": "https://localhost:8080/"
        },
        "id": "c3cdd6f6",
        "outputId": "c0ce5a5d-bbb4-42e0-975a-9f6d4c5e5f61"
      },
      "outputs": [
        {
          "output_type": "stream",
          "name": "stdout",
          "text": [
            "Downloading data from https://storage.googleapis.com/tensorflow/keras-applications/vgg16/vgg16_weights_tf_dim_ordering_tf_kernels_notop.h5\n",
            "58892288/58889256 [==============================] - 0s 0us/step\n",
            "58900480/58889256 [==============================] - 0s 0us/step\n"
          ]
        }
      ],
      "source": [
        "# add preprocessing layer to the front of VGG\n",
        "vgg = VGG16(input_shape=IMAGE_SIZE + [3], weights='imagenet', include_top=False)\n"
      ]
    },
    {
      "cell_type": "code",
      "execution_count": null,
      "id": "69c65396",
      "metadata": {
        "id": "69c65396"
      },
      "outputs": [],
      "source": [
        "# don't train existing weights\n",
        "for layer in vgg.layers:\n",
        "  layer.trainable = False"
      ]
    },
    {
      "cell_type": "code",
      "execution_count": null,
      "id": "8eb313e6",
      "metadata": {
        "colab": {
          "base_uri": "https://localhost:8080/"
        },
        "id": "8eb313e6",
        "outputId": "f6fef442-cd0c-4b5b-8b4f-5d89db5ef9c3"
      },
      "outputs": [
        {
          "output_type": "stream",
          "name": "stdout",
          "text": [
            "2\n",
            "['/content/drive/MyDrive/dataset_v2/train/def', '/content/drive/MyDrive/dataset_v2/train/ok']\n"
          ]
        }
      ],
      "source": [
        "# useful for getting number of classes\n",
        "folders = glob(\"/content/drive/MyDrive/dataset_v2/train/*\")\n",
        "print(len(folders))\n",
        "print(folders)"
      ]
    },
    {
      "cell_type": "code",
      "execution_count": null,
      "id": "07d64d23",
      "metadata": {
        "id": "07d64d23"
      },
      "outputs": [],
      "source": [
        "# our layers - you can add more if you want\n",
        "x = Flatten()(vgg.output)\n",
        "# x = Dense(1000, activation='relu')(x)\n",
        "prediction = Dense(len(folders), activation='softmax')(x)"
      ]
    },
    {
      "cell_type": "code",
      "execution_count": null,
      "id": "ac2bfcae",
      "metadata": {
        "id": "ac2bfcae"
      },
      "outputs": [],
      "source": [
        "# create a model object\n",
        "model = Model(inputs=vgg.input, outputs=prediction)\n"
      ]
    },
    {
      "cell_type": "code",
      "execution_count": null,
      "id": "eeaebbc6",
      "metadata": {
        "colab": {
          "base_uri": "https://localhost:8080/"
        },
        "id": "eeaebbc6",
        "outputId": "46371128-92dd-4f4c-f8b0-e93eae348eb6"
      },
      "outputs": [
        {
          "output_type": "stream",
          "name": "stdout",
          "text": [
            "Model: \"model\"\n",
            "_________________________________________________________________\n",
            " Layer (type)                Output Shape              Param #   \n",
            "=================================================================\n",
            " input_1 (InputLayer)        [(None, 224, 224, 3)]     0         \n",
            "                                                                 \n",
            " block1_conv1 (Conv2D)       (None, 224, 224, 64)      1792      \n",
            "                                                                 \n",
            " block1_conv2 (Conv2D)       (None, 224, 224, 64)      36928     \n",
            "                                                                 \n",
            " block1_pool (MaxPooling2D)  (None, 112, 112, 64)      0         \n",
            "                                                                 \n",
            " block2_conv1 (Conv2D)       (None, 112, 112, 128)     73856     \n",
            "                                                                 \n",
            " block2_conv2 (Conv2D)       (None, 112, 112, 128)     147584    \n",
            "                                                                 \n",
            " block2_pool (MaxPooling2D)  (None, 56, 56, 128)       0         \n",
            "                                                                 \n",
            " block3_conv1 (Conv2D)       (None, 56, 56, 256)       295168    \n",
            "                                                                 \n",
            " block3_conv2 (Conv2D)       (None, 56, 56, 256)       590080    \n",
            "                                                                 \n",
            " block3_conv3 (Conv2D)       (None, 56, 56, 256)       590080    \n",
            "                                                                 \n",
            " block3_pool (MaxPooling2D)  (None, 28, 28, 256)       0         \n",
            "                                                                 \n",
            " block4_conv1 (Conv2D)       (None, 28, 28, 512)       1180160   \n",
            "                                                                 \n",
            " block4_conv2 (Conv2D)       (None, 28, 28, 512)       2359808   \n",
            "                                                                 \n",
            " block4_conv3 (Conv2D)       (None, 28, 28, 512)       2359808   \n",
            "                                                                 \n",
            " block4_pool (MaxPooling2D)  (None, 14, 14, 512)       0         \n",
            "                                                                 \n",
            " block5_conv1 (Conv2D)       (None, 14, 14, 512)       2359808   \n",
            "                                                                 \n",
            " block5_conv2 (Conv2D)       (None, 14, 14, 512)       2359808   \n",
            "                                                                 \n",
            " block5_conv3 (Conv2D)       (None, 14, 14, 512)       2359808   \n",
            "                                                                 \n",
            " block5_pool (MaxPooling2D)  (None, 7, 7, 512)         0         \n",
            "                                                                 \n",
            " flatten (Flatten)           (None, 25088)             0         \n",
            "                                                                 \n",
            " dense (Dense)               (None, 2)                 50178     \n",
            "                                                                 \n",
            "=================================================================\n",
            "Total params: 14,764,866\n",
            "Trainable params: 50,178\n",
            "Non-trainable params: 14,714,688\n",
            "_________________________________________________________________\n"
          ]
        }
      ],
      "source": [
        "# view the structure of the model\n",
        "model.summary()"
      ]
    },
    {
      "cell_type": "code",
      "execution_count": null,
      "id": "a0e6603b",
      "metadata": {
        "id": "a0e6603b"
      },
      "outputs": [],
      "source": [
        "# tell the model what cost and optimization method to use\n",
        "model.compile(\n",
        "  loss='categorical_crossentropy',\n",
        "  optimizer='adam',\n",
        "  metrics=['accuracy']\n",
        ")"
      ]
    },
    {
      "cell_type": "code",
      "execution_count": null,
      "id": "7df01749",
      "metadata": {
        "id": "7df01749"
      },
      "outputs": [],
      "source": [
        "from keras.preprocessing.image import ImageDataGenerator\n",
        "\n",
        "train_datagen = ImageDataGenerator(rescale = 1./255,\n",
        "                                   shear_range = 0.2,\n",
        "                                   zoom_range = 0.2,\n",
        "                                   horizontal_flip = True)"
      ]
    },
    {
      "cell_type": "code",
      "execution_count": null,
      "id": "a1f36e66",
      "metadata": {
        "colab": {
          "base_uri": "https://localhost:8080/"
        },
        "id": "a1f36e66",
        "outputId": "12ace348-76ae-433b-e939-6006dd92fdf9"
      },
      "outputs": [
        {
          "output_type": "stream",
          "name": "stdout",
          "text": [
            "Found 16386 images belonging to 2 classes.\n"
          ]
        }
      ],
      "source": [
        "test_datagen = ImageDataGenerator(rescale = 1./255)\n",
        "\n",
        "training_set = train_datagen.flow_from_directory(\"/content/drive/MyDrive/dataset_v2/train/\",\n",
        "                                                 target_size = (224, 224),\n",
        "                                                 batch_size = 32,\n",
        "                                                 class_mode = 'categorical')"
      ]
    },
    {
      "cell_type": "code",
      "execution_count": null,
      "id": "1e1077de",
      "metadata": {
        "colab": {
          "base_uri": "https://localhost:8080/"
        },
        "id": "1e1077de",
        "outputId": "e3255654-0f49-430f-e923-f8d0f723d3f5"
      },
      "outputs": [
        {
          "output_type": "stream",
          "name": "stdout",
          "text": [
            "Found 3339 images belonging to 2 classes.\n"
          ]
        }
      ],
      "source": [
        "test_set = test_datagen.flow_from_directory( \"/content/drive/MyDrive/dataset_v2/test/\",\n",
        "                                            target_size = (224, 224),\n",
        "                                            batch_size = 32,\n",
        "                                            class_mode = 'categorical')\n"
      ]
    },
    {
      "cell_type": "code",
      "execution_count": null,
      "id": "c848a241",
      "metadata": {
        "colab": {
          "base_uri": "https://localhost:8080/"
        },
        "id": "c848a241",
        "outputId": "30d4b8a2-1e35-46ae-95f0-7a9780c6dc14"
      },
      "outputs": [
        {
          "output_type": "stream",
          "name": "stdout",
          "text": [
            "513\n",
            "105\n"
          ]
        }
      ],
      "source": [
        "print(len(training_set))\n",
        "print(len(test_set))"
      ]
    },
    {
      "cell_type": "markdown",
      "source": [
        "**Training with 5 Epochs**"
      ],
      "metadata": {
        "id": "Z8XyZdYP0szi"
      },
      "id": "Z8XyZdYP0szi"
    },
    {
      "cell_type": "code",
      "execution_count": null,
      "id": "756dc963",
      "metadata": {
        "colab": {
          "base_uri": "https://localhost:8080/"
        },
        "id": "756dc963",
        "outputId": "489c54c6-0e61-42b7-f93a-de7815e7499f"
      },
      "outputs": [
        {
          "output_type": "stream",
          "name": "stdout",
          "text": [
            "Epoch 1/5\n",
            "271/513 [==============>...............] - ETA: 20:01 - loss: 0.2993 - accuracy: 0.8778"
          ]
        },
        {
          "output_type": "stream",
          "name": "stderr",
          "text": [
            "/usr/local/lib/python3.7/dist-packages/PIL/Image.py:960: UserWarning: Palette images with Transparency expressed in bytes should be converted to RGBA images\n",
            "  \"Palette images with Transparency expressed in bytes should be \"\n"
          ]
        },
        {
          "output_type": "stream",
          "name": "stdout",
          "text": [
            "513/513 [==============================] - 3567s 7s/step - loss: 0.2299 - accuracy: 0.9093 - val_loss: 0.1511 - val_accuracy: 0.9413\n",
            "Epoch 2/5\n",
            "513/513 [==============================] - 268s 523ms/step - loss: 0.1063 - accuracy: 0.9630 - val_loss: 0.0885 - val_accuracy: 0.9662\n",
            "Epoch 3/5\n",
            "513/513 [==============================] - 266s 519ms/step - loss: 0.0808 - accuracy: 0.9722 - val_loss: 0.0595 - val_accuracy: 0.9799\n",
            "Epoch 4/5\n",
            "513/513 [==============================] - 267s 520ms/step - loss: 0.0884 - accuracy: 0.9675 - val_loss: 0.0571 - val_accuracy: 0.9799\n",
            "Epoch 5/5\n",
            "513/513 [==============================] - 265s 516ms/step - loss: 0.0650 - accuracy: 0.9785 - val_loss: 0.0443 - val_accuracy: 0.9850\n"
          ]
        }
      ],
      "source": [
        "# fit the model\n",
        "r = model.fit(\n",
        "  training_set,\n",
        "  validation_data=test_set,\n",
        "  epochs=5,\n",
        "  steps_per_epoch=len(training_set),\n",
        "  validation_steps=len(test_set)\n",
        ")"
      ]
    },
    {
      "cell_type": "markdown",
      "source": [
        "**MODEL** **EVALUATION**"
      ],
      "metadata": {
        "id": "QNkJRBiv0JIe"
      },
      "id": "QNkJRBiv0JIe"
    },
    {
      "cell_type": "code",
      "execution_count": null,
      "id": "228c49f3",
      "metadata": {
        "id": "228c49f3",
        "colab": {
          "base_uri": "https://localhost:8080/",
          "height": 282
        },
        "outputId": "525ccf0c-bdbc-4a91-fdc4-a5b4bb9b4e89"
      },
      "outputs": [
        {
          "output_type": "display_data",
          "data": {
            "text/plain": [
              "<Figure size 432x288 with 1 Axes>"
            ],
            "image/png": "[encoded data removed]"
          },
          "metadata": {
            "needs_background": "light"
          }
        },
        {
          "output_type": "display_data",
          "data": {
            "text/plain": [
              "<Figure size 432x288 with 0 Axes>"
            ]
          },
          "metadata": {}
        }
      ],
      "source": [
        "# loss\n",
        "plt.plot(r.history['loss'], label='train loss')\n",
        "plt.plot(r.history['val_loss'], label='val loss')\n",
        "plt.legend()\n",
        "plt.show()\n",
        "plt.savefig('LossVal_loss')"
      ]
    },
    {
      "cell_type": "code",
      "execution_count": null,
      "id": "c51cf9ec",
      "metadata": {
        "id": "c51cf9ec",
        "colab": {
          "base_uri": "https://localhost:8080/",
          "height": 282
        },
        "outputId": "405a7c9f-26a2-4b50-c42b-dfb8f4e939b8"
      },
      "outputs": [
        {
          "output_type": "display_data",
          "data": {
            "text/plain": [
              "<Figure size 432x288 with 1 Axes>"
            ],
            "image/png": "[encoded data removed]"
          },
          "metadata": {
            "needs_background": "light"
          }
        },
        {
          "output_type": "display_data",
          "data": {
            "text/plain": [
              "<Figure size 432x288 with 0 Axes>"
            ]
          },
          "metadata": {}
        }
      ],
      "source": [
        "# accuracies\n",
        "plt.plot(r.history['accuracy'], label='train acc')\n",
        "plt.plot(r.history['val_accuracy'], label='val acc')\n",
        "plt.legend()\n",
        "plt.show()\n",
        "plt.savefig('AccVal_acc')"
      ]
    },
    {
      "cell_type": "code",
      "source": [
        "plt.plot(r.history['accuracy'])\n",
        "plt.plot(r.history['val_accuracy'])\n",
        "plt.title('Model Accuracy')\n",
        "plt.xlabel('Epochs')\n",
        "plt.ylabel('Accuracy')\n",
        "plt.legend(['Acc','Val'], loc = 'upper left')"
      ],
      "metadata": {
        "id": "9zUoBaBr2jhM",
        "colab": {
          "base_uri": "https://localhost:8080/",
          "height": 312
        },
        "outputId": "28ef6203-c587-4ce3-eb83-ba8ff153fbd3"
      },
      "id": "9zUoBaBr2jhM",
      "execution_count": null,
      "outputs": [
        {
          "output_type": "execute_result",
          "data": {
            "text/plain": [
              "<matplotlib.legend.Legend at 0x7f9a3012f290>"
            ]
          },
          "metadata": {},
          "execution_count": 20
        },
        {
          "output_type": "display_data",
          "data": {
            "text/plain": [
              "<Figure size 432x288 with 1 Axes>"
            ],
            "image/png": "[encoded data removed]"
          },
          "metadata": {
            "needs_background": "light"
          }
        }
      ]
    },
    {
      "cell_type": "code",
      "execution_count": null,
      "metadata": {
        "id": "6GsEG2itt4zb",
        "colab": {
          "base_uri": "https://localhost:8080/"
        },
        "outputId": "37f64c4f-4c22-470d-f8f7-d34ed63078c8"
      },
      "outputs": [
        {
          "output_type": "stream",
          "name": "stdout",
          "text": [
            "104/104 [==============================] - 29s 279ms/step - loss: 0.0443 - accuracy: 0.9850\n"
          ]
        },
        {
          "output_type": "execute_result",
          "data": {
            "text/plain": [
              "[0.04433760419487953, 0.9850254654884338]"
            ]
          },
          "metadata": {},
          "execution_count": 21
        }
      ],
      "source": [
        "model.evaluate(test_set, steps=test_set.samples/test_set.batch_size)"
      ],
      "id": "6GsEG2itt4zb"
    },
    {
      "cell_type": "code",
      "execution_count": null,
      "id": "e19526b4",
      "metadata": {
        "id": "e19526b4"
      },
      "outputs": [],
      "source": [
        "import tensorflow as tf\n",
        "\n",
        "from keras.models import load_model"
      ]
    },
    {
      "cell_type": "code",
      "execution_count": null,
      "id": "4f749198",
      "metadata": {
        "id": "4f749198"
      },
      "outputs": [],
      "source": [
        "model.save('finalmodel3.h5')"
      ]
    },
    {
      "cell_type": "markdown",
      "source": [
        "**TESTING ON DIFFERENT IMAGES**"
      ],
      "metadata": {
        "id": "3FC5sz1Lxrh0"
      },
      "id": "3FC5sz1Lxrh0"
    },
    {
      "cell_type": "code",
      "execution_count": null,
      "id": "75d57ebb",
      "metadata": {
        "id": "75d57ebb"
      },
      "outputs": [],
      "source": [
        "from PIL import Image\n"
      ]
    },
    {
      "cell_type": "code",
      "execution_count": null,
      "id": "ca9d92f4",
      "metadata": {
        "id": "ca9d92f4"
      },
      "outputs": [],
      "source": [
        "import os\n",
        "import cv2\n",
        "from PIL import Image\n",
        "import tensorflow as tf\n",
        "from keras import backend as K\n",
        "from keras.preprocessing import image as image_utils\n",
        "\n",
        "from keras.models import Sequential\n",
        "from keras.preprocessing import image as image_utils\n",
        "import pandas as pd\n",
        "\n",
        "from keras.models import load_model\n",
        "from keras.preprocessing.image import img_to_array\n",
        "from tensorflow.keras.optimizers import Adam, RMSprop\n",
        "from tensorflow.keras.callbacks import ReduceLROnPlateau\n",
        "from tensorflow.keras.preprocessing.image import ImageDataGenerator"
      ]
    },
    {
      "cell_type": "code",
      "execution_count": null,
      "id": "33ef7269",
      "metadata": {
        "id": "33ef7269"
      },
      "outputs": [],
      "source": [
        "from keras.models import load_model\n",
        "\n",
        "from keras.preprocessing.image import load_img,img_to_array\n",
        "from keras.preprocessing import image\n",
        "\n",
        "\n",
        "model1 = load_model('/content/finalmodel3.h5',compile=False)  "
      ]
    },
    {
      "cell_type": "code",
      "execution_count": null,
      "id": "0ed0c70e",
      "metadata": {
        "id": "0ed0c70e",
        "colab": {
          "base_uri": "https://localhost:8080/"
        },
        "outputId": "f8094058-51fa-4b11-9139-049f468d05ce"
      },
      "outputs": [
        {
          "output_type": "stream",
          "name": "stdout",
          "text": [
            "{0: 'def', 1: 'ok'}\n"
          ]
        }
      ],
      "source": [
        "lab = training_set.class_indices\n",
        "lab={k:v for v,k in lab.items()}\n",
        "print(lab)\n"
      ]
    },
    {
      "cell_type": "code",
      "execution_count": null,
      "id": "e1c3c05c",
      "metadata": {
        "id": "e1c3c05c"
      },
      "outputs": [],
      "source": [
        "def output(location):\n",
        "    img=load_img(location,target_size=(224,224,3))\n",
        "    img=img_to_array(img)\n",
        "    img=img/255\n",
        "    img=np.expand_dims(img,[0])\n",
        "    answer=model1.predict(img)\n",
        "    y_class = answer.argmax(axis=-1)\n",
        "    y = \" \".join(str(x) for x in y_class)\n",
        "    y = int(y)\n",
        "    res = lab[y]\n",
        "    return res"
      ]
    },
    {
      "cell_type": "code",
      "execution_count": null,
      "id": "f5b9c19e",
      "metadata": {
        "id": "f5b9c19e",
        "colab": {
          "base_uri": "https://localhost:8080/",
          "height": 287
        },
        "outputId": "7d014446-7a60-4eee-c4e9-ad93a9a25f7d"
      },
      "outputs": [
        {
          "output_type": "execute_result",
          "data": {
            "text/plain": [
              "'ok'"
            ],
            "application/vnd.google.colaboratory.intrinsic+json": {
              "type": "string"
            }
          },
          "metadata": {},
          "execution_count": 40
        },
        {
          "output_type": "display_data",
          "data": {
            "text/plain": [
              "<Figure size 432x288 with 1 Axes>"
            ],
            "image/png": "[encoded data removed]"
          },
          "metadata": {
            "needs_background": "light"
          }
        }
      ],
      "source": [
        "img=\"/content/sample_test1.jfif\"\n",
        "pic= load_img(\"/content/sample_test1.jfif\",target_size=(224,224,3))\n",
        "plt.imshow(pic)\n",
        "output(img)"
      ]
    },
    {
      "cell_type": "markdown",
      "source": [
        "ok = The Given Image Has **No Anomaly**"
      ],
      "metadata": {
        "id": "iol7fr07xny1"
      },
      "id": "iol7fr07xny1"
    },
    {
      "cell_type": "code",
      "execution_count": null,
      "id": "2efe9064",
      "metadata": {
        "id": "2efe9064",
        "colab": {
          "base_uri": "https://localhost:8080/",
          "height": 287
        },
        "outputId": "1bcb0d13-e64d-4da8-a4b6-9d7a9e917386"
      },
      "outputs": [
        {
          "output_type": "execute_result",
          "data": {
            "text/plain": [
              "'def'"
            ],
            "application/vnd.google.colaboratory.intrinsic+json": {
              "type": "string"
            }
          },
          "metadata": {},
          "execution_count": 42
        },
        {
          "output_type": "display_data",
          "data": {
            "text/plain": [
              "<Figure size 432x288 with 1 Axes>"
            ],
            "image/png": "[encoded data removed]"
          },
          "metadata": {
            "needs_background": "light"
          }
        }
      ],
      "source": [
        "img=\"/content/sample_test2.jpg\"\n",
        "pic= load_img(\"/content/sample_test2.jpg\",target_size=(224,224,3))\n",
        "plt.imshow(pic)\n",
        "output(img)"
      ]
    },
    {
      "cell_type": "markdown",
      "source": [
        "def = The Given Image Has **Anomaly**"
      ],
      "metadata": {
        "id": "a7Z_pWC4ymiO"
      },
      "id": "a7Z_pWC4ymiO"
    },
    {
      "cell_type": "code",
      "source": [
        ""
      ],
      "metadata": {
        "id": "eHKM0RvGyUrq"
      },
      "id": "eHKM0RvGyUrq",
      "execution_count": null,
      "outputs": []
    },
    {
      "cell_type": "code",
      "source": [
        ""
      ],
      "metadata": {
        "id": "F7EzHznkyU0B"
      },
      "id": "F7EzHznkyU0B",
      "execution_count": null,
      "outputs": []
    },
    {
      "cell_type": "code",
      "execution_count": null,
      "id": "20f79616",
      "metadata": {
        "id": "20f79616"
      },
      "outputs": [],
      "source": [
        ""
      ]
    }
  ],
  "metadata": {
    "kernelspec": {
      "display_name": "Python 3 (ipykernel)",
      "language": "python",
      "name": "python3"
    },
    "language_info": {
      "codemirror_mode": {
        "name": "ipython",
        "version": 3
      },
      "file_extension": ".py",
      "mimetype": "text/x-python",
      "name": "python",
      "nbconvert_exporter": "python",
      "pygments_lexer": "ipython3",
      "version": "3.9.12"
    },
    "colab": {
      "name": "final_VGG16.ipynb",
      "provenance": [],
      "collapsed_sections": [],
      "include_colab_link": true
    },
    "accelerator": "GPU"
  },
  "nbformat": 4,
  "nbformat_minor": 5
}